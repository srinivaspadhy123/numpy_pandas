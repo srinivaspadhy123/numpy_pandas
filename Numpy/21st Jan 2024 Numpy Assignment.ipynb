{
 "cells": [
  {
   "cell_type": "code",
   "execution_count": 32,
   "id": "2e71ec12",
   "metadata": {},
   "outputs": [],
   "source": [
    "import numpy as np"
   ]
  },
  {
   "cell_type": "code",
   "execution_count": 16,
   "id": "3ff97fe1",
   "metadata": {},
   "outputs": [],
   "source": [
    "# 1. What is a Python library? Why do we use Python libraries?"
   ]
  },
  {
   "cell_type": "raw",
   "id": "8e049660",
   "metadata": {},
   "source": [
    "A Python library is a collection of modules and packages that provide pre-written, reusable code to perform a variety of tasks. These libraries offer a set of functions, classes, and methods that can be easily imported and used in Python scripts or programs, allowing developers to save time and effort by leveraging existing code rather than starting from scratch.\n",
    "\n"
   ]
  },
  {
   "cell_type": "code",
   "execution_count": 17,
   "id": "dd44bc13",
   "metadata": {},
   "outputs": [],
   "source": [
    "# 2. What is the difference between Numpy array and List?"
   ]
  },
  {
   "cell_type": "raw",
   "id": "a05298b4",
   "metadata": {},
   "source": [
    "NumPy arrays and Python lists are both used to store and manipulate collections of data, but they have some key differences in terms of functionality, performance, and use cases. Here are some of the main differences between NumPy arrays and lists:\n",
    "\n",
    "Data Type:\n",
    "\n",
    "List: A Python list can contain elements of different data types. Each element can be of any type, and the list can be heterogeneous.\n",
    "\n",
    "NumPy Array: NumPy arrays are homogeneous, meaning all elements must be of the same data type. This leads to more efficient storage and operations on the data.\n",
    "\n",
    "Performance:\n",
    "\n",
    "List: Lists are generally slower than NumPy arrays for numerical operations. They are more versatile but may not perform well when dealing with large datasets or complex mathematical operations.\n",
    "\n",
    "NumPy Array: NumPy arrays are optimized for numerical operations and are more memory-efficient. They leverage compiled C code for many operations, making them faster than lists for numerical computations.\n",
    "\n",
    "Size and Memory Efficiency:\n",
    "\n",
    "List: Lists in Python are more flexible but can be less memory-efficient due to the need to store type information for each element.\n",
    "\n",
    "NumPy Array: NumPy arrays are more memory-efficient, as they store elements in a contiguous block of memory and use a fixed data type.\n",
    "\n",
    "Functionality:\n",
    "\n",
    "List: Lists provide a variety of general-purpose methods and can be easily modified (e.g., appended, extended, reversed) with high-level operations.\n",
    "\n",
    "NumPy Array: NumPy arrays come with a wide range of mathematical operations and functions for array manipulation. They are well-suited for numerical and scientific computing."
   ]
  },
  {
   "cell_type": "code",
   "execution_count": 18,
   "id": "d2a8a5e0",
   "metadata": {},
   "outputs": [],
   "source": [
    "# 3. Find the shape, size and dimension of the following array?\n",
    "#  [[1, 2, 3, 4]\n",
    "\n",
    "# [5, 6, 7, 8],\n",
    "\n",
    "# [9, 10, 11, 12]]"
   ]
  },
  {
   "cell_type": "code",
   "execution_count": 35,
   "id": "7d8290ba",
   "metadata": {},
   "outputs": [
    {
     "name": "stdout",
     "output_type": "stream",
     "text": [
      "(3, 4)\n"
     ]
    },
    {
     "data": {
      "text/plain": [
       "12"
      ]
     },
     "execution_count": 35,
     "metadata": {},
     "output_type": "execute_result"
    }
   ],
   "source": [
    "arr = np.array([[1,2,3,4],[5,6,7,8],[9,10,11,12]])\n",
    "print(arr.shape)\n",
    "arr.size"
   ]
  },
  {
   "cell_type": "code",
   "execution_count": 19,
   "id": "bfcac51a",
   "metadata": {},
   "outputs": [],
   "source": [
    "# 4. Write python code to access the first row of the following array?\n",
    "#  [[1, 2, 3, 4]\n",
    "\n",
    "# [5, 6, 7, 8],\n",
    "\n",
    "# [9, 10, 11, 12]]"
   ]
  },
  {
   "cell_type": "code",
   "execution_count": 37,
   "id": "02f451c5",
   "metadata": {},
   "outputs": [
    {
     "data": {
      "text/plain": [
       "array([1, 2, 3, 4])"
      ]
     },
     "execution_count": 37,
     "metadata": {},
     "output_type": "execute_result"
    }
   ],
   "source": [
    "arr1 = np.array([[1,2,3,4],[5,6,7,8],[9,10,11,12]])\n",
    "arr1[0]"
   ]
  },
  {
   "cell_type": "code",
   "execution_count": 20,
   "id": "93289d43",
   "metadata": {},
   "outputs": [],
   "source": [
    "# 5. How do you access the element at the third row and fourth column from the given numpy array?\n",
    "#  [[1, 2, 3, 4]\n",
    "\n",
    "# [5, 6, 7, 8],\n",
    "\n",
    "# [9, 10, 11, 12]]"
   ]
  },
  {
   "cell_type": "code",
   "execution_count": 38,
   "id": "dc84f22a",
   "metadata": {},
   "outputs": [
    {
     "data": {
      "text/plain": [
       "12"
      ]
     },
     "execution_count": 38,
     "metadata": {},
     "output_type": "execute_result"
    }
   ],
   "source": [
    "arr2 = np.array([[1,2,3,4],[5,6,7,8],[9,10,11,12]])\n",
    "arr2[2,3]"
   ]
  },
  {
   "cell_type": "code",
   "execution_count": 21,
   "id": "a3ce6b35",
   "metadata": {},
   "outputs": [],
   "source": [
    "# 6. Write code to extract all odd-indexed elements from the given numpy array?\n",
    "#  [[1, 2, 3, 4]\n",
    "\n",
    "# [5, 6, 7, 8],\n",
    "\n",
    "# [9, 10, 11, 12]]"
   ]
  },
  {
   "cell_type": "code",
   "execution_count": 41,
   "id": "daa6d0dc",
   "metadata": {},
   "outputs": [
    {
     "data": {
      "text/plain": [
       "array([[ 2,  4],\n",
       "       [ 6,  8],\n",
       "       [10, 12]])"
      ]
     },
     "execution_count": 41,
     "metadata": {},
     "output_type": "execute_result"
    }
   ],
   "source": [
    "arr3 = np.array([[1,2,3,4],[5,6,7,8],[9,10,11,12]])\n",
    "arr3[::,1:4:2]"
   ]
  },
  {
   "cell_type": "code",
   "execution_count": 22,
   "id": "cbd0b3a7",
   "metadata": {},
   "outputs": [],
   "source": [
    "# 7. How can you generate a random 3x3 matrix with values between 0 and 1?"
   ]
  },
  {
   "cell_type": "code",
   "execution_count": 45,
   "id": "e93bc672",
   "metadata": {},
   "outputs": [
    {
     "data": {
      "text/plain": [
       "array([[0.53272985, 0.40403153, 0.47869054],\n",
       "       [0.99003468, 0.85154042, 0.57085773],\n",
       "       [0.11434185, 0.02265671, 0.05851623]])"
      ]
     },
     "execution_count": 45,
     "metadata": {},
     "output_type": "execute_result"
    }
   ],
   "source": [
    "import random as rand\n",
    "\n",
    "arr3 = np.random.rand(3,3)\n",
    "arr3"
   ]
  },
  {
   "cell_type": "code",
   "execution_count": 23,
   "id": "1b72eaa2",
   "metadata": {},
   "outputs": [],
   "source": [
    "# 8. Describe the difference between np.random.rand and np.random.randn?"
   ]
  },
  {
   "cell_type": "raw",
   "id": "fbe275fa",
   "metadata": {},
   "source": [
    "random.rand returns values in the range [0-1) while random.randn returns the values in the standard normal distribution"
   ]
  },
  {
   "cell_type": "code",
   "execution_count": 24,
   "id": "46bb648f",
   "metadata": {},
   "outputs": [],
   "source": [
    "# 9. Write code to increase the dimension of the following array?\n",
    "#  [[1, 2, 3, 4]\n",
    "\n",
    "# [5, 6, 7, 8],\n",
    "\n",
    "# [9, 10, 11, 12]]"
   ]
  },
  {
   "cell_type": "code",
   "execution_count": 47,
   "id": "0b638371",
   "metadata": {},
   "outputs": [
    {
     "data": {
      "text/plain": [
       "array([[[ 1,  2,  3,  4]],\n",
       "\n",
       "       [[ 5,  6,  7,  8]],\n",
       "\n",
       "       [[ 9, 10, 11, 12]]])"
      ]
     },
     "execution_count": 47,
     "metadata": {},
     "output_type": "execute_result"
    }
   ],
   "source": [
    "arr5 = np.array([[1,2,3,4],[5,6,7,8],[9,10,11,12]])\n",
    "np.expand_dims(arr5,axis=1)"
   ]
  },
  {
   "cell_type": "code",
   "execution_count": 25,
   "id": "d967c57f",
   "metadata": {},
   "outputs": [],
   "source": [
    "# 10. How to transpose the following array in NumPy?\n",
    "#  [[1, 2, 3, 4]\n",
    "\n",
    "# [5, 6, 7, 8],\n",
    "\n",
    "# [9, 10, 11, 12]]"
   ]
  },
  {
   "cell_type": "code",
   "execution_count": 61,
   "id": "a0b7d472",
   "metadata": {},
   "outputs": [
    {
     "data": {
      "text/plain": [
       "array([[ 1,  5,  9],\n",
       "       [ 2,  6, 10],\n",
       "       [ 3,  7, 11],\n",
       "       [ 4,  8, 12]])"
      ]
     },
     "execution_count": 61,
     "metadata": {},
     "output_type": "execute_result"
    }
   ],
   "source": [
    "arr6 = np.array([[1,2,3,4],[5,6,7,8],[9,10,11,12]])\n",
    "np.transpose(arr6)"
   ]
  },
  {
   "cell_type": "code",
   "execution_count": 26,
   "id": "9e896f60",
   "metadata": {},
   "outputs": [],
   "source": [
    "# 11. Consider the following matrix:\n",
    "\n",
    "# Matrix A: [[1, 2, 3, 4] [5, 6, 7, 8],[9, 10, 11, 12]]\n",
    "# Matrix B: [[1, 2, 3, 4] [5, 6, 7, 8],[9, 10, 11, 12]]\n",
    "\n",
    "\n",
    "# Perform the following operation using Python1 \n",
    "# 1.Index wise multiplicatio'\n",
    "# 2. Matrix multiplicatio'\n",
    "# 3. Add both the matricK\n",
    "# 4. Subtract matrix B from A\n",
    "# 5. Divide Matrix B by A"
   ]
  },
  {
   "cell_type": "code",
   "execution_count": 73,
   "id": "8d17e322",
   "metadata": {},
   "outputs": [
    {
     "name": "stdout",
     "output_type": "stream",
     "text": [
      "matrix Multiplication:  [[ 90 100 110 120]\n",
      " [202 228 254 280]\n",
      " [314 356 398 440]]\n",
      "Array Multiplication: [[  1   4   9  16]\n",
      " [ 25  36  49  64]\n",
      " [ 81 100 121 144]]\n",
      "Matrix addition [[ 2  4  6  8]\n",
      " [10 12 14 16]\n",
      " [18 20 22 24]]\n",
      "Matrix subtraction :  [[0 0 0 0]\n",
      " [0 0 0 0]\n",
      " [0 0 0 0]]\n",
      "Divide MAtrix:  [[1. 1. 1. 1.]\n",
      " [1. 1. 1. 1.]\n",
      " [1. 1. 1. 1.]]\n"
     ]
    }
   ],
   "source": [
    "mata = np.matrix([[1, 2, 3, 4],[5, 6, 7, 8],[9, 10, 11, 12]])\n",
    "matb = np.matrix([[1, 2, 3, 4],[5, 6, 7, 8],[9, 10, 11, 12],[13,14,15,16]])\n",
    "print(\"matrix Multiplication: \",mata*matb)\n",
    "arr1 = np.array([[1, 2, 3, 4],[5, 6, 7, 8],[9, 10, 11, 12]])\n",
    "arr2 = np.array([[1, 2, 3, 4],[5, 6, 7, 8],[9, 10, 11, 12]])\n",
    "print(\"Array Multiplication:\",arr1*arr2)\n",
    "matrixa = np.matrix([[1, 2, 3, 4],[5, 6, 7, 8],[9, 10, 11, 12]])\n",
    "matrixb = np.matrix([[1, 2, 3, 4],[5, 6, 7, 8],[9, 10, 11, 12]])\n",
    "print(\"Matrix addition\",matrixa+matrixb)\n",
    "print(\"Matrix subtraction : \",matrixa-matrixb)\n",
    "print(\"Divide MAtrix: \",matrixa/matrixb)"
   ]
  },
  {
   "cell_type": "code",
   "execution_count": 27,
   "id": "31ceb330",
   "metadata": {},
   "outputs": [],
   "source": [
    "# 12. Which function in Numpy can be used to swap the byte order of an array?"
   ]
  },
  {
   "cell_type": "code",
   "execution_count": 75,
   "id": "02653fda",
   "metadata": {},
   "outputs": [
    {
     "data": {
      "text/plain": [
       "array([16777216, 33554432, 50331648, 67108864], dtype=int32)"
      ]
     },
     "execution_count": 75,
     "metadata": {},
     "output_type": "execute_result"
    }
   ],
   "source": [
    "array = np.array([1,2,3,4],dtype='>i4')\n",
    "array.byteswap()"
   ]
  },
  {
   "cell_type": "code",
   "execution_count": 28,
   "id": "81d3b507",
   "metadata": {},
   "outputs": [],
   "source": [
    "# 13. What is the significance of the np.linalg.inv function?"
   ]
  },
  {
   "cell_type": "code",
   "execution_count": 89,
   "id": "9cbe583d",
   "metadata": {},
   "outputs": [
    {
     "data": {
      "text/plain": [
       "array([[-2.  , -1.  ,  1.  ],\n",
       "       [ 3.  ,  2.75, -2.  ],\n",
       "       [-1.  , -1.5 ,  1.  ]])"
      ]
     },
     "execution_count": 89,
     "metadata": {},
     "output_type": "execute_result"
    }
   ],
   "source": [
    "a2 = np.array([[1,2,3],[4,4,4],[7,8,10]])\n",
    "np.linalg.inv(a2)"
   ]
  },
  {
   "cell_type": "code",
   "execution_count": 29,
   "id": "20a4810b",
   "metadata": {},
   "outputs": [],
   "source": [
    "# 14. What does the np.reshape function do, and how is it used?"
   ]
  },
  {
   "cell_type": "code",
   "execution_count": 91,
   "id": "23249eff",
   "metadata": {},
   "outputs": [
    {
     "data": {
      "text/plain": [
       "array([[ 1,  2,  3,  4,  4,  4,  7,  8, 10]])"
      ]
     },
     "execution_count": 91,
     "metadata": {},
     "output_type": "execute_result"
    }
   ],
   "source": [
    "# np.reshape reshapes the numpy array to a new shape and returns a reshaped array\n",
    "a3 = np.array([[1,2,3],[4,4,4],[7,8,10]]).reshape(1,9) # reshapes the array of shape 3,3 to 1,9\n",
    "a3"
   ]
  },
  {
   "cell_type": "code",
   "execution_count": 30,
   "id": "f430c2f1",
   "metadata": {},
   "outputs": [],
   "source": [
    "# 15. What is broadcasting in Numpy?"
   ]
  },
  {
   "cell_type": "code",
   "execution_count": 95,
   "id": "07212515",
   "metadata": {},
   "outputs": [
    {
     "data": {
      "text/plain": [
       "array([[12,  5,  7, 36],\n",
       "       [16,  9, 11, 40],\n",
       "       [20, 13, 15, 44]])"
      ]
     },
     "execution_count": 95,
     "metadata": {},
     "output_type": "execute_result"
    }
   ],
   "source": [
    "# Broadcasting creates additional elements in the broadcasted array to match the array to which it is broadcasted to.\n",
    "\n",
    "a = np.array([[1, 2, 3, 4],[5, 6, 7, 8],[9, 10, 11, 12]])\n",
    "b = np.array([11,3,4,32])\n",
    "a+b"
   ]
  }
 ],
 "metadata": {
  "kernelspec": {
   "display_name": "Python 3 (ipykernel)",
   "language": "python",
   "name": "python3"
  },
  "language_info": {
   "codemirror_mode": {
    "name": "ipython",
    "version": 3
   },
   "file_extension": ".py",
   "mimetype": "text/x-python",
   "name": "python",
   "nbconvert_exporter": "python",
   "pygments_lexer": "ipython3",
   "version": "3.11.3"
  }
 },
 "nbformat": 4,
 "nbformat_minor": 5
}
